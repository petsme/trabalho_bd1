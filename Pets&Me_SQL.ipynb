{
  "nbformat": 4,
  "nbformat_minor": 0,
  "metadata": {
    "colab": {
      "name": "Pets&Me_SQL",
      "provenance": [],
      "include_colab_link": true
    },
    "kernelspec": {
      "name": "python3",
      "display_name": "Python 3"
    }
  },
  "cells": [
    {
      "cell_type": "markdown",
      "metadata": {
        "id": "view-in-github",
        "colab_type": "text"
      },
      "source": [
        "<a href=\"https://colab.research.google.com/github/petsme/trabalho_bd1/blob/master/Pets%26Me_SQL.ipynb\" target=\"_parent\"><img src=\"https://colab.research.google.com/assets/colab-badge.svg\" alt=\"Open In Colab\"/></a>"
      ]
    },
    {
      "cell_type": "markdown",
      "metadata": {
        "id": "bOkVRq21KeeR",
        "colab_type": "text"
      },
      "source": [
        "Estabelecendo conexão com o banco."
      ]
    },
    {
      "cell_type": "code",
      "metadata": {
        "id": "5sbFrW-VKhVp",
        "colab_type": "code",
        "outputId": "b6d2f9b3-780d-4bff-c839-ec86227bddfb",
        "colab": {
          "base_uri": "https://localhost:8080/",
          "height": 70
        }
      },
      "source": [
        "import psycopg2 as psy\n",
        "import pandas as panda\n",
        "\n",
        "\n",
        "connect = psy.connect(host = \"tuffi.db.elephantsql.com\", port = \"5432\", database = \"byvvxfmo\", user = \"byvvxfmo\", password = \"wfRAxJuvndPFf5JxD3Ni4Y4N5FZfT8PS\")\n",
        "\n",
        "cursor = connect.cursor()\n",
        "\n",
        "cursor.execute('start transaction')"
      ],
      "execution_count": 0,
      "outputs": [
        {
          "output_type": "stream",
          "text": [
            "/usr/local/lib/python3.6/dist-packages/psycopg2/__init__.py:144: UserWarning: The psycopg2 wheel package will be renamed from release 2.8; in order to keep installing from binary please use \"pip install psycopg2-binary\" instead. For details see: <http://initd.org/psycopg/docs/install.html#binary-install-from-pypi>.\n",
            "  \"\"\")\n"
          ],
          "name": "stderr"
        }
      ]
    },
    {
      "cell_type": "markdown",
      "metadata": {
        "id": "wI6xcspNJGgX",
        "colab_type": "text"
      },
      "source": [
        "1 - Consultas Com Inserts"
      ]
    },
    {
      "cell_type": "code",
      "metadata": {
        "id": "mryrVbfJKY5j",
        "colab_type": "code",
        "colab": {}
      },
      "source": [
        "import seaborn as sns\n",
        "import pandas as pd\n",
        "import psycopg2\n",
        "\n",
        "\n",
        "insert_usuario = panda.read_sql_query(\"SELECT * FROM Usuario\", connect)\n",
        "\n",
        "insert_protector = panda.read_sql_query(\"SELECT * FROM Protector\", connect)\n",
        "\n",
        "insert_adopter = panda.read_sql_query(\"SELECT * FROM Adopter\", connect)\n",
        "\n",
        "insert_adota = panda.read_sql_query(\"SELECT * FROM Adota\", connect)\n",
        "\n",
        "insert_visita = panda.read_sql_query(\"SELECT * FROM Agenda_Visita\", connect)\n",
        "\n",
        "insert_contatos = panda.read_sql_query(\"SELECT * FROM Dados_Contato\", connect)\n",
        "\n",
        "insert_classifica = panda.read_sql_query(\"SELECT * FROM Classifica\", connect)\n",
        "\n",
        "insert_documentacao = panda.read_sql_query(\"SELECT * FROM Documentacao\", connect)"
      ],
      "execution_count": 0,
      "outputs": []
    },
    {
      "cell_type": "code",
      "metadata": {
        "id": "BYu8dTq5LyWI",
        "colab_type": "code",
        "outputId": "eb10bc9e-cf06-409f-c260-b8d8edd1cd28",
        "colab": {
          "base_uri": "https://localhost:8080/",
          "height": 639
        }
      },
      "source": [
        "#-----INSERIR-NOME-DA-VARIAVEL-PARA-PRINTAR-----#\n",
        "\n",
        "insert_usuario"
      ],
      "execution_count": 0,
      "outputs": [
        {
          "output_type": "execute_result",
          "data": {
            "text/html": [
              "<div>\n",
              "<style scoped>\n",
              "    .dataframe tbody tr th:only-of-type {\n",
              "        vertical-align: middle;\n",
              "    }\n",
              "\n",
              "    .dataframe tbody tr th {\n",
              "        vertical-align: top;\n",
              "    }\n",
              "\n",
              "    .dataframe thead th {\n",
              "        text-align: right;\n",
              "    }\n",
              "</style>\n",
              "<table border=\"1\" class=\"dataframe\">\n",
              "  <thead>\n",
              "    <tr style=\"text-align: right;\">\n",
              "      <th></th>\n",
              "      <th>id</th>\n",
              "      <th>nome_sobrenome</th>\n",
              "      <th>sexo</th>\n",
              "      <th>data_nascimento</th>\n",
              "      <th>rg</th>\n",
              "      <th>cpf</th>\n",
              "      <th>senha</th>\n",
              "      <th>nome_usuario</th>\n",
              "    </tr>\n",
              "  </thead>\n",
              "  <tbody>\n",
              "    <tr>\n",
              "      <th>0</th>\n",
              "      <td>12346</td>\n",
              "      <td>Claudio Moreira</td>\n",
              "      <td>M</td>\n",
              "      <td>1972-04-25</td>\n",
              "      <td>65896</td>\n",
              "      <td>123478998</td>\n",
              "      <td>Macarao</td>\n",
              "      <td>c.moreira</td>\n",
              "    </tr>\n",
              "    <tr>\n",
              "      <th>1</th>\n",
              "      <td>12347</td>\n",
              "      <td>Renato Goncalvez</td>\n",
              "      <td>M</td>\n",
              "      <td>1966-01-01</td>\n",
              "      <td>36523</td>\n",
              "      <td>123468596</td>\n",
              "      <td>Molho</td>\n",
              "      <td>r.gon</td>\n",
              "    </tr>\n",
              "    <tr>\n",
              "      <th>2</th>\n",
              "      <td>12348</td>\n",
              "      <td>Mariana Rodrigues</td>\n",
              "      <td>F</td>\n",
              "      <td>1988-07-13</td>\n",
              "      <td>25412</td>\n",
              "      <td>123498765</td>\n",
              "      <td>Topster</td>\n",
              "      <td>mar_ia</td>\n",
              "    </tr>\n",
              "    <tr>\n",
              "      <th>3</th>\n",
              "      <td>12349</td>\n",
              "      <td>Marcelo Augusto</td>\n",
              "      <td>M</td>\n",
              "      <td>1992-02-14</td>\n",
              "      <td>58745</td>\n",
              "      <td>235655687</td>\n",
              "      <td>ToNemAi</td>\n",
              "      <td>marcel_aug</td>\n",
              "    </tr>\n",
              "    <tr>\n",
              "      <th>4</th>\n",
              "      <td>12340</td>\n",
              "      <td>Paloma Silva</td>\n",
              "      <td>F</td>\n",
              "      <td>1976-07-25</td>\n",
              "      <td>25632</td>\n",
              "      <td>321654265</td>\n",
              "      <td>Teste</td>\n",
              "      <td>p.silva</td>\n",
              "    </tr>\n",
              "    <tr>\n",
              "      <th>5</th>\n",
              "      <td>12341</td>\n",
              "      <td>Santiago Santos</td>\n",
              "      <td>M</td>\n",
              "      <td>2000-03-07</td>\n",
              "      <td>65412</td>\n",
              "      <td>965274145</td>\n",
              "      <td>Chocolate123</td>\n",
              "      <td>sa.sou</td>\n",
              "    </tr>\n",
              "    <tr>\n",
              "      <th>6</th>\n",
              "      <td>12342</td>\n",
              "      <td>Sandro Souza</td>\n",
              "      <td>M</td>\n",
              "      <td>1974-02-28</td>\n",
              "      <td>23654</td>\n",
              "      <td>369814745</td>\n",
              "      <td>Marvilha321</td>\n",
              "      <td>sandrosouzinha22</td>\n",
              "    </tr>\n",
              "    <tr>\n",
              "      <th>7</th>\n",
              "      <td>12343</td>\n",
              "      <td>Abigail de Oliveira</td>\n",
              "      <td>F</td>\n",
              "      <td>1960-03-19</td>\n",
              "      <td>58974</td>\n",
              "      <td>258914765</td>\n",
              "      <td>NemSeiASenha</td>\n",
              "      <td>ab.gail</td>\n",
              "    </tr>\n",
              "    <tr>\n",
              "      <th>8</th>\n",
              "      <td>12344</td>\n",
              "      <td>Maria da Penha</td>\n",
              "      <td>F</td>\n",
              "      <td>2000-08-30</td>\n",
              "      <td>56789</td>\n",
              "      <td>852364165</td>\n",
              "      <td>Eureca</td>\n",
              "      <td>maria.penha</td>\n",
              "    </tr>\n",
              "    <tr>\n",
              "      <th>9</th>\n",
              "      <td>16458</td>\n",
              "      <td>Roger Machado</td>\n",
              "      <td>M</td>\n",
              "      <td>1985-04-12</td>\n",
              "      <td>64585</td>\n",
              "      <td>965274147</td>\n",
              "      <td>Novinha22</td>\n",
              "      <td>roger.machado</td>\n",
              "    </tr>\n",
              "    <tr>\n",
              "      <th>10</th>\n",
              "      <td>16325</td>\n",
              "      <td>Marta Pereira</td>\n",
              "      <td>F</td>\n",
              "      <td>1965-05-13</td>\n",
              "      <td>22236</td>\n",
              "      <td>698763201</td>\n",
              "      <td>123feijaoarroz</td>\n",
              "      <td>m.pereira</td>\n",
              "    </tr>\n",
              "    <tr>\n",
              "      <th>11</th>\n",
              "      <td>16587</td>\n",
              "      <td>Lorenzo Rocha</td>\n",
              "      <td>M</td>\n",
              "      <td>1997-05-10</td>\n",
              "      <td>33654</td>\n",
              "      <td>169863254</td>\n",
              "      <td>seila</td>\n",
              "      <td>l.rocha</td>\n",
              "    </tr>\n",
              "    <tr>\n",
              "      <th>12</th>\n",
              "      <td>16326</td>\n",
              "      <td>Romildo Lorencon</td>\n",
              "      <td>M</td>\n",
              "      <td>1998-11-11</td>\n",
              "      <td>46458</td>\n",
              "      <td>123675498</td>\n",
              "      <td>senhanova</td>\n",
              "      <td>romildo.lorenon</td>\n",
              "    </tr>\n",
              "    <tr>\n",
              "      <th>13</th>\n",
              "      <td>16596</td>\n",
              "      <td>Graca Conceicao</td>\n",
              "      <td>F</td>\n",
              "      <td>1999-12-12</td>\n",
              "      <td>11258</td>\n",
              "      <td>968569745</td>\n",
              "      <td>tentadenovo</td>\n",
              "      <td>graa.conceio</td>\n",
              "    </tr>\n",
              "    <tr>\n",
              "      <th>14</th>\n",
              "      <td>16345</td>\n",
              "      <td>Cecilia Maria</td>\n",
              "      <td>F</td>\n",
              "      <td>1996-06-13</td>\n",
              "      <td>46568</td>\n",
              "      <td>635987456</td>\n",
              "      <td>senhaestranha</td>\n",
              "      <td>c.maria</td>\n",
              "    </tr>\n",
              "    <tr>\n",
              "      <th>15</th>\n",
              "      <td>16256</td>\n",
              "      <td>Vanderson Carniel</td>\n",
              "      <td>M</td>\n",
              "      <td>1986-03-14</td>\n",
              "      <td>45467</td>\n",
              "      <td>316478645</td>\n",
              "      <td>tosemideias</td>\n",
              "      <td>vandinho22</td>\n",
              "    </tr>\n",
              "    <tr>\n",
              "      <th>16</th>\n",
              "      <td>16369</td>\n",
              "      <td>Lorena Poeis</td>\n",
              "      <td>F</td>\n",
              "      <td>1987-01-15</td>\n",
              "      <td>11136</td>\n",
              "      <td>254963171</td>\n",
              "      <td>seinaobicho</td>\n",
              "      <td>lorena.poeis</td>\n",
              "    </tr>\n",
              "    <tr>\n",
              "      <th>17</th>\n",
              "      <td>16525</td>\n",
              "      <td>Gabriela Oliveira</td>\n",
              "      <td>F</td>\n",
              "      <td>1985-08-16</td>\n",
              "      <td>25648</td>\n",
              "      <td>111565458</td>\n",
              "      <td>sinceramente</td>\n",
              "      <td>oliver.gabis</td>\n",
              "    </tr>\n",
              "    <tr>\n",
              "      <th>18</th>\n",
              "      <td>16582</td>\n",
              "      <td>Marcos Rocha</td>\n",
              "      <td>M</td>\n",
              "      <td>1978-04-17</td>\n",
              "      <td>96345</td>\n",
              "      <td>331158745</td>\n",
              "      <td>senhazonha</td>\n",
              "      <td>mpedradura</td>\n",
              "    </tr>\n",
              "    <tr>\n",
              "      <th>19</th>\n",
              "      <td>12345</td>\n",
              "      <td>Amanda Montenegro</td>\n",
              "      <td>F</td>\n",
              "      <td>1997-06-21</td>\n",
              "      <td>32569</td>\n",
              "      <td>123456778</td>\n",
              "      <td>BatataFrita</td>\n",
              "      <td>a.martins</td>\n",
              "    </tr>\n",
              "  </tbody>\n",
              "</table>\n",
              "</div>"
            ],
            "text/plain": [
              "       id       nome_sobrenome  ...           senha      nome_usuario\n",
              "0   12346      Claudio Moreira  ...         Macarao         c.moreira\n",
              "1   12347     Renato Goncalvez  ...           Molho             r.gon\n",
              "2   12348    Mariana Rodrigues  ...         Topster            mar_ia\n",
              "3   12349      Marcelo Augusto  ...         ToNemAi        marcel_aug\n",
              "4   12340         Paloma Silva  ...           Teste           p.silva\n",
              "5   12341      Santiago Santos  ...    Chocolate123            sa.sou\n",
              "6   12342         Sandro Souza  ...     Marvilha321  sandrosouzinha22\n",
              "7   12343  Abigail de Oliveira  ...    NemSeiASenha           ab.gail\n",
              "8   12344       Maria da Penha  ...          Eureca       maria.penha\n",
              "9   16458        Roger Machado  ...       Novinha22     roger.machado\n",
              "10  16325        Marta Pereira  ...  123feijaoarroz         m.pereira\n",
              "11  16587        Lorenzo Rocha  ...           seila           l.rocha\n",
              "12  16326     Romildo Lorencon  ...       senhanova   romildo.lorenon\n",
              "13  16596      Graca Conceicao  ...     tentadenovo      graa.conceio\n",
              "14  16345        Cecilia Maria  ...   senhaestranha           c.maria\n",
              "15  16256    Vanderson Carniel  ...     tosemideias        vandinho22\n",
              "16  16369         Lorena Poeis  ...     seinaobicho      lorena.poeis\n",
              "17  16525    Gabriela Oliveira  ...    sinceramente      oliver.gabis\n",
              "18  16582         Marcos Rocha  ...      senhazonha        mpedradura\n",
              "19  12345    Amanda Montenegro  ...     BatataFrita         a.martins\n",
              "\n",
              "[20 rows x 8 columns]"
            ]
          },
          "metadata": {
            "tags": []
          },
          "execution_count": 3
        }
      ]
    },
    {
      "cell_type": "markdown",
      "metadata": {
        "id": "8n7_k02DJgT8",
        "colab_type": "text"
      },
      "source": [
        "2 - Consulta Com Filtro Where"
      ]
    },
    {
      "cell_type": "code",
      "metadata": {
        "id": "k1xB776iKaLx",
        "colab_type": "code",
        "colab": {}
      },
      "source": [
        "import seaborn as sns\n",
        "import pandas as pd\n",
        "import psycopg2\n",
        "\n",
        "where_animal_sexo_m = pd.read_sql_query(\"\"\"SELECT Nome_Animal AS \"Nome Animal\", \n",
        "  Sexo_Animal AS \"Sexo\" From Animal\n",
        "WHERE Sexo_Animal = 'M'\"\"\",connect)\n",
        "\n",
        "where_animal_sexo_f = pd.read_sql_query(\"\"\"SELECT Nome_Animal AS \"Nome Animal\", \n",
        "  Sexo_Animal AS \"Sexo\" From Animal\n",
        "WHERE Sexo_Animal = 'F'\"\"\",connect)\n",
        "\n",
        "where_usuario_nota = panda.read_sql_query(\"\"\"SELECT id_usuario_2 AS \"ID_Usuario\", Nota FROM Classifica WHERE Nota = 5 OR Nota = 4\"\"\", connect)\n",
        "\n",
        "where_usuario_sexo_f = panda.read_sql_query(\"\"\"SELECT Nome_Sobrenome FROM Usuario WHERE Sexo = 'F'\"\"\", connect)"
      ],
      "execution_count": 0,
      "outputs": []
    },
    {
      "cell_type": "code",
      "metadata": {
        "id": "dECPFVkxOQf9",
        "colab_type": "code",
        "outputId": "e64bbbda-6117-4221-f601-79520f8eeda1",
        "colab": {
          "base_uri": "https://localhost:8080/",
          "height": 402
        }
      },
      "source": [
        "#-----INSERIR-NOME-DA-VARIAVEL-PARA-PRINTAR-----#\n",
        "\n",
        "where_animal_sexo_m"
      ],
      "execution_count": 0,
      "outputs": [
        {
          "output_type": "execute_result",
          "data": {
            "text/html": [
              "<div>\n",
              "<style scoped>\n",
              "    .dataframe tbody tr th:only-of-type {\n",
              "        vertical-align: middle;\n",
              "    }\n",
              "\n",
              "    .dataframe tbody tr th {\n",
              "        vertical-align: top;\n",
              "    }\n",
              "\n",
              "    .dataframe thead th {\n",
              "        text-align: right;\n",
              "    }\n",
              "</style>\n",
              "<table border=\"1\" class=\"dataframe\">\n",
              "  <thead>\n",
              "    <tr style=\"text-align: right;\">\n",
              "      <th></th>\n",
              "      <th>Nome Animal</th>\n",
              "      <th>Sexo</th>\n",
              "    </tr>\n",
              "  </thead>\n",
              "  <tbody>\n",
              "    <tr>\n",
              "      <th>0</th>\n",
              "      <td>Billy</td>\n",
              "      <td>M</td>\n",
              "    </tr>\n",
              "    <tr>\n",
              "      <th>1</th>\n",
              "      <td>Rex</td>\n",
              "      <td>M</td>\n",
              "    </tr>\n",
              "    <tr>\n",
              "      <th>2</th>\n",
              "      <td>Spike</td>\n",
              "      <td>M</td>\n",
              "    </tr>\n",
              "    <tr>\n",
              "      <th>3</th>\n",
              "      <td>Pretinho</td>\n",
              "      <td>M</td>\n",
              "    </tr>\n",
              "    <tr>\n",
              "      <th>4</th>\n",
              "      <td>Bob</td>\n",
              "      <td>M</td>\n",
              "    </tr>\n",
              "    <tr>\n",
              "      <th>5</th>\n",
              "      <td>Brutus</td>\n",
              "      <td>M</td>\n",
              "    </tr>\n",
              "    <tr>\n",
              "      <th>6</th>\n",
              "      <td>Luke</td>\n",
              "      <td>M</td>\n",
              "    </tr>\n",
              "    <tr>\n",
              "      <th>7</th>\n",
              "      <td>Nick</td>\n",
              "      <td>M</td>\n",
              "    </tr>\n",
              "    <tr>\n",
              "      <th>8</th>\n",
              "      <td>Apolo</td>\n",
              "      <td>M</td>\n",
              "    </tr>\n",
              "    <tr>\n",
              "      <th>9</th>\n",
              "      <td>Zeus</td>\n",
              "      <td>M</td>\n",
              "    </tr>\n",
              "    <tr>\n",
              "      <th>10</th>\n",
              "      <td>Boris</td>\n",
              "      <td>M</td>\n",
              "    </tr>\n",
              "    <tr>\n",
              "      <th>11</th>\n",
              "      <td>Bartolomeu</td>\n",
              "      <td>M</td>\n",
              "    </tr>\n",
              "  </tbody>\n",
              "</table>\n",
              "</div>"
            ],
            "text/plain": [
              "   Nome Animal Sexo\n",
              "0        Billy    M\n",
              "1          Rex    M\n",
              "2        Spike    M\n",
              "3     Pretinho    M\n",
              "4          Bob    M\n",
              "5       Brutus    M\n",
              "6         Luke    M\n",
              "7         Nick    M\n",
              "8        Apolo    M\n",
              "9         Zeus    M\n",
              "10       Boris    M\n",
              "11  Bartolomeu    M"
            ]
          },
          "metadata": {
            "tags": []
          },
          "execution_count": 5
        }
      ]
    },
    {
      "cell_type": "markdown",
      "metadata": {
        "id": "uQLY2Si_Jgg3",
        "colab_type": "text"
      },
      "source": [
        "3 - Consulta Com Operador Lógico ou Campos Renomeados\n"
      ]
    },
    {
      "cell_type": "code",
      "metadata": {
        "id": "C2HBo45BKbIS",
        "colab_type": "code",
        "colab": {}
      },
      "source": [
        "import seaborn as sns\n",
        "import pandas as pd\n",
        "import psycopg2\n",
        "\n",
        "logico_usuario_nota = pd.read_sql_query(\"\"\"SELECT u.Nome_Sobrenome AS \"Nome\", \n",
        "  c.Nota as \"Nota\" FROM Usuario as u\n",
        "  INNER JOIN Classifica as c ON (u.ID = c.ID_usuario_2)\n",
        "  WHERE c.Nota = 5 OR c.Nota = 4 ORDER BY Nota\"\"\",connect)\n",
        "\n",
        "logico_id = panda.read_sql_query(\"SELECT * FROM Usuario WHERE ID > 5 OR ID < 100\", connect)\n",
        "\n",
        "logico_sexo_nome_m = panda.read_sql_query(\"\"\"SELECT Nome_Sobrenome, Sexo FROM Usuario WHERE Sexo = 'M' AND Nome_Sobrenome ILIKE 'M%'\"\"\", connect)\n",
        "\n",
        "logico_sexo_nome_f = panda.read_sql_query(\"\"\"SELECT Nome_Sobrenome, Sexo FROM Usuario WHERE Sexo = 'F' OR Nome_Sobrenome LIKE 'A%'\"\"\", connect)\n",
        "\n",
        "logico_sexo_ano = panda.read_sql_query(\"\"\"SELECT Nome_Sobrenome, Sexo FROM Usuario WHERE Sexo = 'M' AND EXTRACT(Year FROM(Data_Nascimento)) > 1999\"\"\", connect)\n",
        "\n",
        "logico_sexoanimal_year = panda.read_sql_query(\"\"\"SELECT Nome_Animal, Sexo_Animal FROM Animal WHERE EXTRACT(Year FROM(Data_Cadastro)) <= 2017 AND Sexo_Animal = 'F'\"\"\", connect)\n",
        "\n",
        "logico_sexoanimal_nome_f = panda.read_sql_query(\"\"\"SELECT Nome_Animal, Sexo_Animal FROM Animal WHERE Nome_Animal ILIKE 'A%' AND Sexo_Animal = 'F'\"\"\", connect)\n",
        "\n",
        "logico_sexoanimal_nome_m = panda.read_sql_query(\"\"\"SELECT Nome_Animal, Sexo_Animal FROM Animal WHERE Nome_Animal ILIKE 'B%' AND Sexo_Animal = 'M'\"\"\", connect)\n",
        "\n",
        "rename_nome_usuario = panda.read_sql_query(\"\"\"SELECT Nome_Sobrenome AS \"Nome do Usuario\" FROM Usuario\"\"\", connect)\n",
        "\n",
        "rename_nome_animal = panda.read_sql_query(\"\"\"SELECT Nome_Animal AS \"Nome do Animal\" FROM Animal\"\"\", connect)\n",
        "\n",
        "rename_data_nascimento = panda.read_sql_query(\"\"\"SELECT Data_Nascimento AS \"Data de Nascimento\", Nome_Sobrenome AS \"Nome do Usuario\" FROM Usuario\"\"\", connect)"
      ],
      "execution_count": 0,
      "outputs": []
    },
    {
      "cell_type": "code",
      "metadata": {
        "id": "R4r3-RldOVAu",
        "colab_type": "code",
        "outputId": "2b461a44-371c-408c-eb0c-9281cf181a7b",
        "colab": {
          "base_uri": "https://localhost:8080/",
          "height": 195
        }
      },
      "source": [
        "#-----INSERIR-NOME-DA-VARIAVEL-PARA-PRINTAR-----#\n",
        "\n",
        "logico_usuario_nota"
      ],
      "execution_count": 0,
      "outputs": [
        {
          "output_type": "execute_result",
          "data": {
            "text/html": [
              "<div>\n",
              "<style scoped>\n",
              "    .dataframe tbody tr th:only-of-type {\n",
              "        vertical-align: middle;\n",
              "    }\n",
              "\n",
              "    .dataframe tbody tr th {\n",
              "        vertical-align: top;\n",
              "    }\n",
              "\n",
              "    .dataframe thead th {\n",
              "        text-align: right;\n",
              "    }\n",
              "</style>\n",
              "<table border=\"1\" class=\"dataframe\">\n",
              "  <thead>\n",
              "    <tr style=\"text-align: right;\">\n",
              "      <th></th>\n",
              "      <th>Nome</th>\n",
              "      <th>Nota</th>\n",
              "    </tr>\n",
              "  </thead>\n",
              "  <tbody>\n",
              "    <tr>\n",
              "      <th>0</th>\n",
              "      <td>Cecilia Maria</td>\n",
              "      <td>4</td>\n",
              "    </tr>\n",
              "    <tr>\n",
              "      <th>1</th>\n",
              "      <td>Paloma Silva</td>\n",
              "      <td>5</td>\n",
              "    </tr>\n",
              "    <tr>\n",
              "      <th>2</th>\n",
              "      <td>Sandro Souza</td>\n",
              "      <td>5</td>\n",
              "    </tr>\n",
              "    <tr>\n",
              "      <th>3</th>\n",
              "      <td>Maria da Penha</td>\n",
              "      <td>5</td>\n",
              "    </tr>\n",
              "    <tr>\n",
              "      <th>4</th>\n",
              "      <td>Marcos Rocha</td>\n",
              "      <td>5</td>\n",
              "    </tr>\n",
              "  </tbody>\n",
              "</table>\n",
              "</div>"
            ],
            "text/plain": [
              "             Nome  Nota\n",
              "0   Cecilia Maria     4\n",
              "1    Paloma Silva     5\n",
              "2    Sandro Souza     5\n",
              "3  Maria da Penha     5\n",
              "4    Marcos Rocha     5"
            ]
          },
          "metadata": {
            "tags": []
          },
          "execution_count": 7
        }
      ]
    },
    {
      "cell_type": "markdown",
      "metadata": {
        "id": "XXjCVWAVJgvW",
        "colab_type": "text"
      },
      "source": [
        "4 - Like e Datas"
      ]
    },
    {
      "cell_type": "code",
      "metadata": {
        "id": "pSr6dGvGKcaX",
        "colab_type": "code",
        "colab": {}
      },
      "source": [
        "import seaborn as sns\n",
        "import pandas as pd\n",
        "import psycopg2\n",
        "\n",
        "likedata_idade_nome_t = pd.read_sql_query(\"\"\"SELECT Nome_Sobrenome, EXTRACT (Year FROM AGE (current_date, Data_Nascimento)) AS \"Idade\" \n",
        "FROM Usuario WHERE Nome_Sobrenome ILIKE '%t%'\"\"\",connect)\n",
        "\n",
        "likedata_nome_a = pd.read_sql_query(\"\"\"SELECT * FROM Usuario WHERE Nome_Sobrenome LIKE 'A%'\"\"\",connect)\n",
        "\n",
        "likedata_anonas_idade = pd.read_sql_query(\"\"\"SELECT current_date as \"Data Atual\", EXTRACT(Year FROM (Data_Nascimento)) AS \"Ano Nascimento\", EXTRACT (Year FROM AGE (current_date, Data_Nascimento)) AS \"Idade\" FROM Usuario\"\"\",connect)\n",
        "\n",
        "likedata_email_a = pd.read_sql_query(\"\"\"SELECT Email FROM Dados_Contato WHERE Email ILIKE 'a%'\"\"\",connect)\n",
        "\n",
        "likedata_nomeanimal_a = pd.read_sql_query(\"\"\"SELECT * FROM Animal WHERE Nome_Animal ILIKE 'a%'\"\"\",connect)\n",
        "\n",
        "likedata_nome_o = pd.read_sql_query(\"\"\"SELECT * FROM Usuario WHERE Nome_Sobrenome ILIKE '%o%'\"\"\",connect)\n",
        "\n",
        "likedata_nome_nascimento = pd.read_sql_query(\"\"\"SELECT current_date as \"Data Atual\", Data_Nascimento, Nome_Sobrenome FROM Usuario\"\"\",connect)\n",
        "\n",
        "likedata_cadastro_nome = pd.read_sql_query(\"\"\"SELECT current_date as \"Data Atual\", Data_Cadastro, Nome_Animal FROM Animal\"\"\",connect)\n",
        "\n",
        "likedata_cadastro_nome_a = pd.read_sql_query(\"\"\"SELECT current_date as \"Data Atual\", Data_Cadastro, Nome_Animal FROM Animal WHERE Nome_Animal ILIKE '%a'\"\"\",connect)"
      ],
      "execution_count": 0,
      "outputs": []
    },
    {
      "cell_type": "code",
      "metadata": {
        "id": "zkhlCvX0OWWt",
        "colab_type": "code",
        "outputId": "ff3f2365-de0f-4aba-c7b9-c60d8ccf84a2",
        "colab": {
          "base_uri": "https://localhost:8080/",
          "height": 195
        }
      },
      "source": [
        "#-----INSERIR-NOME-DA-VARIAVEL-PARA-PRINTAR-----#\n",
        "\n",
        "likedata_idade_nome_t"
      ],
      "execution_count": 0,
      "outputs": [
        {
          "output_type": "execute_result",
          "data": {
            "text/html": [
              "<div>\n",
              "<style scoped>\n",
              "    .dataframe tbody tr th:only-of-type {\n",
              "        vertical-align: middle;\n",
              "    }\n",
              "\n",
              "    .dataframe tbody tr th {\n",
              "        vertical-align: top;\n",
              "    }\n",
              "\n",
              "    .dataframe thead th {\n",
              "        text-align: right;\n",
              "    }\n",
              "</style>\n",
              "<table border=\"1\" class=\"dataframe\">\n",
              "  <thead>\n",
              "    <tr style=\"text-align: right;\">\n",
              "      <th></th>\n",
              "      <th>nome_sobrenome</th>\n",
              "      <th>Idade</th>\n",
              "    </tr>\n",
              "  </thead>\n",
              "  <tbody>\n",
              "    <tr>\n",
              "      <th>0</th>\n",
              "      <td>Renato Goncalvez</td>\n",
              "      <td>53.0</td>\n",
              "    </tr>\n",
              "    <tr>\n",
              "      <th>1</th>\n",
              "      <td>Marcelo Augusto</td>\n",
              "      <td>27.0</td>\n",
              "    </tr>\n",
              "    <tr>\n",
              "      <th>2</th>\n",
              "      <td>Santiago Santos</td>\n",
              "      <td>19.0</td>\n",
              "    </tr>\n",
              "    <tr>\n",
              "      <th>3</th>\n",
              "      <td>Marta Pereira</td>\n",
              "      <td>54.0</td>\n",
              "    </tr>\n",
              "    <tr>\n",
              "      <th>4</th>\n",
              "      <td>Amanda Montenegro</td>\n",
              "      <td>22.0</td>\n",
              "    </tr>\n",
              "  </tbody>\n",
              "</table>\n",
              "</div>"
            ],
            "text/plain": [
              "      nome_sobrenome  Idade\n",
              "0   Renato Goncalvez   53.0\n",
              "1    Marcelo Augusto   27.0\n",
              "2    Santiago Santos   19.0\n",
              "3      Marta Pereira   54.0\n",
              "4  Amanda Montenegro   22.0"
            ]
          },
          "metadata": {
            "tags": []
          },
          "execution_count": 9
        }
      ]
    },
    {
      "cell_type": "markdown",
      "metadata": {
        "id": "GU-N0ZOGJg9D",
        "colab_type": "text"
      },
      "source": [
        "5 - Atualização e Exclusão de Dados"
      ]
    },
    {
      "cell_type": "code",
      "metadata": {
        "id": "h5tbLadiKd1K",
        "colab_type": "code",
        "colab": {}
      },
      "source": [
        "import seaborn as sns\n",
        "import pandas as pd\n",
        "import psycopg2\n",
        "\n",
        "# atex_new_nome_3 = pd.read_sql_query(\"\"\"UPDATE Usuario SET Nome_Sobrenome = 'Amanda Montenegro' WHERE Nome_Sobrenome = 'Amanda Martins’\"\"\",connect)\n",
        "\n",
        "# atex_new_data = pd.read_sql_query(\"\"\"UPDATE Usuario SET Data_Nascimento = '2001-10-10' WHERE ID = 16596\"\"\",connect)\n",
        "\n",
        "# atex_new_nome_2 = pd.read_sql_query(\"\"\"UPDATE Animal SET Nome_Animal = 'Xerife' WHERE Nome_Animal = 'Lola’\"\"\",connect)\n",
        "\n",
        "# atex_new_nome_1 = pd.read_sql_query(\"\"\"UPDATE Animal SET Nome_Animal = 'Lilith' WHERE Nome_Animal = 'Armanda’\"\"\",connect)\n",
        "\n",
        "# atex_deleta_visita = pd.read_sql_query(\"\"\"DELETE FROM Agenda_Visita WHERE ID_Animal = 41234\"\"\",connect)\n",
        "\n",
        "# atex_deleta_tele = pd.read_sql_query(\"\"\"DELETE FROM Dados_Contato WHERE Num_Telefone = 956458756\"\"\",connect)"
      ],
      "execution_count": 0,
      "outputs": []
    },
    {
      "cell_type": "code",
      "metadata": {
        "id": "y6d92c_7OXc1",
        "colab_type": "code",
        "colab": {}
      },
      "source": [
        "#-----INSERIR-NOME-DA-VARIAVEL-PARA-PRINTAR-----#\n"
      ],
      "execution_count": 0,
      "outputs": []
    },
    {
      "cell_type": "markdown",
      "metadata": {
        "id": "OEpF9md4JhJf",
        "colab_type": "text"
      },
      "source": [
        "6 - Junção e Ordenação"
      ]
    },
    {
      "cell_type": "code",
      "metadata": {
        "id": "jmJV3zL4Kesc",
        "colab_type": "code",
        "colab": {}
      },
      "source": [
        "import seaborn as sns\n",
        "import pandas as pd\n",
        "import psycopg2\n",
        "\n",
        "#---JUNÇÃO-TODAS-AS-TABELAS---#\n",
        "junord_todas_tabelas = pd.read_sql_query(\"\"\"SELECT usuario.rg, usuario.cpf, usuario.nome_sobrenome AS nome, dados_contato.num_telefone AS telefone\n",
        "FROM usuario INNER JOIN classifica ON\n",
        "(classifica.id_usuario_1  = usuario.id) OR\n",
        "(classifica.id_usuario_2  = usuario.id)\n",
        "INNER JOIN protector ON\n",
        "(classifica.id_usuario_1  = protector.id_protector ) OR\n",
        "(classifica.id_usuario_2  = protector.id_protector)\n",
        "INNER JOIN adopter ON\n",
        "(adopter.id_adopter  = usuario.id )\n",
        "INNER JOIN adota ON\n",
        "(adota.id_adopter=adota.id_adopter)\n",
        "INNER JOIN agenda_visita ON\n",
        "(agenda_visita.id_animal = adota.id_animal)\n",
        "INNER JOIN documentacao ON\n",
        "(documentacao.id_animal=agenda_visita.id_animal)\n",
        "INNER JOIN animal ON\n",
        "(animal.id_animal=documentacao.id_animal)\n",
        "INNER JOIN dados_contato ON\n",
        "(dados_contato.id_usuario=usuario.id)\n",
        "WHERE usuario.sexo = 'M'\n",
        "GROUP BY usuario.rg, usuario.cpf, usuario.nome_sobrenome, dados_contato.num_telefone\n",
        "ORDER BY usuario.nome_sobrenome \"\"\",connect)\n",
        "\n",
        "#---DEMAIS-JUNÇÕES---#\n",
        "\n",
        "junord_nome_endereco = pd.read_sql_query(\"\"\"SELECT u.Nome_Sobrenome AS \"Nome\", \n",
        " d.Endereco AS \"Endereço\" FROM Usuario as u\n",
        " INNER JOIN Dados_Contato as d ON (u.ID = d.ID_usuario)\n",
        " ORDER BY Nome_Sobrenome LIMIT 7\"\"\",connect)\n",
        "\n",
        "junord_nome_adotante = pd.read_sql_query(\"\"\"SELECT u.Nome_Sobrenome AS \"Nome\", \n",
        "  c.Nota as \"Nota\" FROM Usuario as u\n",
        "  INNER JOIN Classifica as c ON (u.ID = c.ID_usuario_2)\n",
        "  WHERE c.Nota = 5 OR c.Nota = 4 ORDER BY Nota\"\"\",connect)\n",
        "\n",
        "junord_qualidade_animal = pd.read_sql_query(\"\"\"SELECT animal.nome_animal AS \"Nome do Animal\", \n",
        "documentacao.descricao AS \"Qualidades do Animal\",\n",
        "documentacao.data_nascimento AS \"Data de Nascimento do Animal\",\n",
        "documentacao.vacinacao AS Vacinacao\n",
        "FROM animal INNER JOIN documentacao ON\n",
        "(animal.id_animal = documentacao.id_animal)\n",
        "ORDER BY documentacao.data_nascimento\"\"\",connect)\n",
        "\n",
        "junord_agendamento_adotante = pd.read_sql_query(\"\"\"SELECT agenda_visita.data_agendamento AS \"Data do Agendamento\",\n",
        "usuario.nome_sobrenome as \"Nome do Adotante\",\n",
        "dados_contato.num_telefone AS \"Telefone\",\n",
        "dados_contato.email AS \"Email\"\n",
        "from agenda_visita INNER JOIN dados_contato ON\n",
        "(agenda_visita.id_adopter = dados_contato.id_usuario) INNER JOIN usuario ON\n",
        "(usuario.id = dados_contato.id_usuario)\n",
        "ORDER BY agenda_visita.data_agendamento\"\"\",connect)\n",
        "\n",
        "junord_nome_avaliacao = pd.read_sql_query(\"\"\"SELECT usuario.nome_sobrenome AS \"Classificador\",\n",
        "classifica.id_usuario_2 AS \"ID do Classificado\",\n",
        "classifica.nota AS \"Nota Recebida\"\n",
        "from classifica INNER JOIN usuario ON\n",
        "(usuario.id = classifica.id_usuario_1)\n",
        "WHERE classifica.nota < 5\n",
        "ORDER BY classifica.nota\"\"\",connect)"
      ],
      "execution_count": 0,
      "outputs": []
    },
    {
      "cell_type": "code",
      "metadata": {
        "id": "Vs94yjWVOYoA",
        "colab_type": "code",
        "outputId": "3791be83-4a93-4c69-cb77-ab0ea2f6a085",
        "colab": {
          "base_uri": "https://localhost:8080/",
          "height": 254
        }
      },
      "source": [
        "#-----INSERIR-NOME-DA-VARIAVEL-PARA-PRINTAR-----#\n",
        "\n",
        "junord_nome_endereco"
      ],
      "execution_count": 0,
      "outputs": [
        {
          "output_type": "execute_result",
          "data": {
            "text/html": [
              "<div>\n",
              "<style scoped>\n",
              "    .dataframe tbody tr th:only-of-type {\n",
              "        vertical-align: middle;\n",
              "    }\n",
              "\n",
              "    .dataframe tbody tr th {\n",
              "        vertical-align: top;\n",
              "    }\n",
              "\n",
              "    .dataframe thead th {\n",
              "        text-align: right;\n",
              "    }\n",
              "</style>\n",
              "<table border=\"1\" class=\"dataframe\">\n",
              "  <thead>\n",
              "    <tr style=\"text-align: right;\">\n",
              "      <th></th>\n",
              "      <th>Nome</th>\n",
              "      <th>Endereço</th>\n",
              "    </tr>\n",
              "  </thead>\n",
              "  <tbody>\n",
              "    <tr>\n",
              "      <th>0</th>\n",
              "      <td>Abigail de Oliveira</td>\n",
              "      <td>Rua Angra N 3654</td>\n",
              "    </tr>\n",
              "    <tr>\n",
              "      <th>1</th>\n",
              "      <td>Amanda Montenegro</td>\n",
              "      <td>Rua Norte Augusto N45</td>\n",
              "    </tr>\n",
              "    <tr>\n",
              "      <th>2</th>\n",
              "      <td>Cecilia Maria</td>\n",
              "      <td>Rua Montes Claros N 15684</td>\n",
              "    </tr>\n",
              "    <tr>\n",
              "      <th>3</th>\n",
              "      <td>Claudio Moreira</td>\n",
              "      <td>Av. Marataises N678</td>\n",
              "    </tr>\n",
              "    <tr>\n",
              "      <th>4</th>\n",
              "      <td>Graca Conceicao</td>\n",
              "      <td>Av. Doutor Jose Vieira Tatagiba N474</td>\n",
              "    </tr>\n",
              "    <tr>\n",
              "      <th>5</th>\n",
              "      <td>Lorena Poeis</td>\n",
              "      <td>Av. Flores Belas N 1426</td>\n",
              "    </tr>\n",
              "    <tr>\n",
              "      <th>6</th>\n",
              "      <td>Lorenzo Rocha</td>\n",
              "      <td>Rua Norte Augusto N98652</td>\n",
              "    </tr>\n",
              "  </tbody>\n",
              "</table>\n",
              "</div>"
            ],
            "text/plain": [
              "                  Nome                              Endereço\n",
              "0  Abigail de Oliveira                      Rua Angra N 3654\n",
              "1    Amanda Montenegro                 Rua Norte Augusto N45\n",
              "2        Cecilia Maria             Rua Montes Claros N 15684\n",
              "3      Claudio Moreira                   Av. Marataises N678\n",
              "4      Graca Conceicao  Av. Doutor Jose Vieira Tatagiba N474\n",
              "5         Lorena Poeis               Av. Flores Belas N 1426\n",
              "6        Lorenzo Rocha              Rua Norte Augusto N98652"
            ]
          },
          "metadata": {
            "tags": []
          },
          "execution_count": 16
        }
      ]
    },
    {
      "cell_type": "markdown",
      "metadata": {
        "id": "QhI5JOiEJhXE",
        "colab_type": "text"
      },
      "source": [
        "7 - Group By"
      ]
    },
    {
      "cell_type": "code",
      "metadata": {
        "id": "IBPBcfFLKgEB",
        "colab_type": "code",
        "colab": {}
      },
      "source": [
        "import seaborn as sns\n",
        "import pandas as pd\n",
        "import psycopg2\n",
        "\n",
        "\n",
        "group_nome = pd.read_sql_query(\"\"\"SELECT ID, Nome_Sobrenome FROM Usuario GROUP BY ID\"\"\",connect)\n",
        "\n",
        "group_nascimento = pd.read_sql_query(\"\"\"SELECT nome_sobrenome, id, data_nascimento FROM usuario GROUP BY id\"\"\",connect)\n",
        "\n",
        "group_nome_id = pd.read_sql_query(\"\"\"SELECT nome_animal, id_animal FROM animal GROUP BY id_animal\"\"\",connect)\n",
        "\n",
        "group_nomme_sexo = pd.read_sql_query(\"\"\"SELECT nome_animal, sexo_animal, age(data_cadastro), id_animal FROM animal GROUP BY id_animal\"\"\",connect)\n",
        "\n",
        "group_nome_idade = pd.read_sql_query(\"\"\"SELECT an.nome_animal, age(data_agendamento), us.nome_sobrenome FROM agenda_visita as av \n",
        "INNER JOIN animal as an ON (av.id_animal = an.id_animal)\n",
        "INNER JOIN usuario as us on (us.id = av.id_adopter)\n",
        "GROUP BY an.nome_animal, av.id_animal, av.id_adopter, age(data_agendamento), us.nome_sobrenome\"\"\",connect)\n",
        "\n",
        "group_descricao_animal = pd.read_sql_query(\"\"\"SELECT dc.id_animal, dc.descricao, an.nome_animal FROM documentacao AS dc \n",
        "INNER JOIN animal AS an on (dc.id_animal = an.id_animal) \n",
        "GROUP BY an.nome_animal, dc.id_animal, dc.descricao\"\"\",connect)"
      ],
      "execution_count": 0,
      "outputs": []
    },
    {
      "cell_type": "code",
      "metadata": {
        "id": "FZg2lmkmOZtu",
        "colab_type": "code",
        "outputId": "f3a3de13-f828-4fd8-efb9-75fcfb48cada",
        "colab": {
          "base_uri": "https://localhost:8080/",
          "height": 639
        }
      },
      "source": [
        "#-----INSERIR-NOME-DA-VARIAVEL-PARA-PRINTAR-----#\n",
        "\n",
        "group_nome"
      ],
      "execution_count": 0,
      "outputs": [
        {
          "output_type": "execute_result",
          "data": {
            "text/html": [
              "<div>\n",
              "<style scoped>\n",
              "    .dataframe tbody tr th:only-of-type {\n",
              "        vertical-align: middle;\n",
              "    }\n",
              "\n",
              "    .dataframe tbody tr th {\n",
              "        vertical-align: top;\n",
              "    }\n",
              "\n",
              "    .dataframe thead th {\n",
              "        text-align: right;\n",
              "    }\n",
              "</style>\n",
              "<table border=\"1\" class=\"dataframe\">\n",
              "  <thead>\n",
              "    <tr style=\"text-align: right;\">\n",
              "      <th></th>\n",
              "      <th>id</th>\n",
              "      <th>nome_sobrenome</th>\n",
              "    </tr>\n",
              "  </thead>\n",
              "  <tbody>\n",
              "    <tr>\n",
              "      <th>0</th>\n",
              "      <td>16369</td>\n",
              "      <td>Lorena Poeis</td>\n",
              "    </tr>\n",
              "    <tr>\n",
              "      <th>1</th>\n",
              "      <td>16345</td>\n",
              "      <td>Cecilia Maria</td>\n",
              "    </tr>\n",
              "    <tr>\n",
              "      <th>2</th>\n",
              "      <td>12344</td>\n",
              "      <td>Maria da Penha</td>\n",
              "    </tr>\n",
              "    <tr>\n",
              "      <th>3</th>\n",
              "      <td>12340</td>\n",
              "      <td>Paloma Silva</td>\n",
              "    </tr>\n",
              "    <tr>\n",
              "      <th>4</th>\n",
              "      <td>16587</td>\n",
              "      <td>Lorenzo Rocha</td>\n",
              "    </tr>\n",
              "    <tr>\n",
              "      <th>5</th>\n",
              "      <td>12347</td>\n",
              "      <td>Renato Goncalvez</td>\n",
              "    </tr>\n",
              "    <tr>\n",
              "      <th>6</th>\n",
              "      <td>16326</td>\n",
              "      <td>Romildo Lorencon</td>\n",
              "    </tr>\n",
              "    <tr>\n",
              "      <th>7</th>\n",
              "      <td>16596</td>\n",
              "      <td>Graca Conceicao</td>\n",
              "    </tr>\n",
              "    <tr>\n",
              "      <th>8</th>\n",
              "      <td>16458</td>\n",
              "      <td>Roger Machado</td>\n",
              "    </tr>\n",
              "    <tr>\n",
              "      <th>9</th>\n",
              "      <td>16525</td>\n",
              "      <td>Gabriela Oliveira</td>\n",
              "    </tr>\n",
              "    <tr>\n",
              "      <th>10</th>\n",
              "      <td>12345</td>\n",
              "      <td>Amanda Montenegro</td>\n",
              "    </tr>\n",
              "    <tr>\n",
              "      <th>11</th>\n",
              "      <td>12342</td>\n",
              "      <td>Sandro Souza</td>\n",
              "    </tr>\n",
              "    <tr>\n",
              "      <th>12</th>\n",
              "      <td>12343</td>\n",
              "      <td>Abigail de Oliveira</td>\n",
              "    </tr>\n",
              "    <tr>\n",
              "      <th>13</th>\n",
              "      <td>12348</td>\n",
              "      <td>Mariana Rodrigues</td>\n",
              "    </tr>\n",
              "    <tr>\n",
              "      <th>14</th>\n",
              "      <td>12346</td>\n",
              "      <td>Claudio Moreira</td>\n",
              "    </tr>\n",
              "    <tr>\n",
              "      <th>15</th>\n",
              "      <td>16582</td>\n",
              "      <td>Marcos Rocha</td>\n",
              "    </tr>\n",
              "    <tr>\n",
              "      <th>16</th>\n",
              "      <td>12341</td>\n",
              "      <td>Santiago Santos</td>\n",
              "    </tr>\n",
              "    <tr>\n",
              "      <th>17</th>\n",
              "      <td>16256</td>\n",
              "      <td>Vanderson Carniel</td>\n",
              "    </tr>\n",
              "    <tr>\n",
              "      <th>18</th>\n",
              "      <td>16325</td>\n",
              "      <td>Marta Pereira</td>\n",
              "    </tr>\n",
              "    <tr>\n",
              "      <th>19</th>\n",
              "      <td>12349</td>\n",
              "      <td>Marcelo Augusto</td>\n",
              "    </tr>\n",
              "  </tbody>\n",
              "</table>\n",
              "</div>"
            ],
            "text/plain": [
              "       id       nome_sobrenome\n",
              "0   16369         Lorena Poeis\n",
              "1   16345        Cecilia Maria\n",
              "2   12344       Maria da Penha\n",
              "3   12340         Paloma Silva\n",
              "4   16587        Lorenzo Rocha\n",
              "5   12347     Renato Goncalvez\n",
              "6   16326     Romildo Lorencon\n",
              "7   16596      Graca Conceicao\n",
              "8   16458        Roger Machado\n",
              "9   16525    Gabriela Oliveira\n",
              "10  12345    Amanda Montenegro\n",
              "11  12342         Sandro Souza\n",
              "12  12343  Abigail de Oliveira\n",
              "13  12348    Mariana Rodrigues\n",
              "14  12346      Claudio Moreira\n",
              "15  16582         Marcos Rocha\n",
              "16  12341      Santiago Santos\n",
              "17  16256    Vanderson Carniel\n",
              "18  16325        Marta Pereira\n",
              "19  12349      Marcelo Augusto"
            ]
          },
          "metadata": {
            "tags": []
          },
          "execution_count": 18
        }
      ]
    },
    {
      "cell_type": "markdown",
      "metadata": {
        "id": "0sE15EAjJhlA",
        "colab_type": "text"
      },
      "source": [
        "8 - Left e Right Join\n"
      ]
    },
    {
      "cell_type": "code",
      "metadata": {
        "id": "cyHA8-LAKg-j",
        "colab_type": "code",
        "colab": {}
      },
      "source": [
        "import seaborn as sns\n",
        "import pandas as pd\n",
        "import psycopg2\n",
        "\n",
        "\n",
        "left_animal_descricao = pd.read_sql_query(\"\"\"Select a.Nome_Animal AS \"Nome\",\n",
        "a.Sexo_Animal AS \"Sexo\",\n",
        "d.Data_Nascimento AS \"Data de Nascimento\",\n",
        "d.Descricao AS \"Descricao\" FROM Animal AS a LEFT JOIN \n",
        "Documentacao AS d ON (a.ID_Animal = d.ID_Animal)\"\"\",connect)\n",
        "\n",
        "left_nome_vacinacao = pd.read_sql_query(\"\"\"SELECT agenda_visita.data_agendamento, \n",
        "animal.nome_animal, \n",
        "documentacao.vacinacao \n",
        "FROM agenda_visita LEFT JOIN animal ON\n",
        "(animal.id_animal = agenda_visita.id_animal)\n",
        "LEFT JOIN documentacao ON\n",
        "(documentacao.id_animal = agenda_visita.id_animal)\"\"\",connect)\n",
        "\n",
        "left_data_agendamento = pd.read_sql_query(\"\"\"SELECT Agenda_Visita.Data_Agendamento,\n",
        "Animal.Nome_Animal,\n",
        "Documentacao.Vacinacao \n",
        "FROM Agenda_Visita LEFT JOIN Animal ON (Animal.ID_Animal = Agenda_Visita.ID_Animal)\n",
        "RIGHT JOIN Documentacao ON (Documentacao.ID_Animal = Agenda_Visita.ID_Animal)\"\"\",connect)\n",
        "\n",
        "right_nome_animal = pd.read_sql_query(\"\"\"SELECT usuario.nome_sobrenome AS \"Nome\", \n",
        "adota.data_adocao AS \"Data da Adoção\",\n",
        "animal.nome_animal AS \"Nome do Animal Adotado\"\n",
        "FROM Adota RIGHT JOIN Usuario ON (adota.id_adopter = usuario.id)\n",
        "LEFT JOIN Animal ON (Animal.id_protector = Adota.id_protector)\n",
        "WHERE adota.data_adocao IS NOT NULL\n",
        "ORDER BY adota.data_adocao\"\"\",connect)"
      ],
      "execution_count": 0,
      "outputs": []
    },
    {
      "cell_type": "code",
      "metadata": {
        "id": "Rl6hVX-5Oaka",
        "colab_type": "code",
        "outputId": "6aff1b0d-cad0-4ee4-d433-5fd89559cf87",
        "colab": {
          "base_uri": "https://localhost:8080/",
          "height": 639
        }
      },
      "source": [
        "#-----INSERIR-NOME-DA-VARIAVEL-PARA-PRINTAR-----#\n",
        "\n",
        "left_animal_descricao"
      ],
      "execution_count": 0,
      "outputs": [
        {
          "output_type": "execute_result",
          "data": {
            "text/html": [
              "<div>\n",
              "<style scoped>\n",
              "    .dataframe tbody tr th:only-of-type {\n",
              "        vertical-align: middle;\n",
              "    }\n",
              "\n",
              "    .dataframe tbody tr th {\n",
              "        vertical-align: top;\n",
              "    }\n",
              "\n",
              "    .dataframe thead th {\n",
              "        text-align: right;\n",
              "    }\n",
              "</style>\n",
              "<table border=\"1\" class=\"dataframe\">\n",
              "  <thead>\n",
              "    <tr style=\"text-align: right;\">\n",
              "      <th></th>\n",
              "      <th>Nome</th>\n",
              "      <th>Sexo</th>\n",
              "      <th>Data de Nascimento</th>\n",
              "      <th>Descricao</th>\n",
              "    </tr>\n",
              "  </thead>\n",
              "  <tbody>\n",
              "    <tr>\n",
              "      <th>0</th>\n",
              "      <td>Billy</td>\n",
              "      <td>M</td>\n",
              "      <td>2015-07-21</td>\n",
              "      <td>Brincalhao</td>\n",
              "    </tr>\n",
              "    <tr>\n",
              "      <th>1</th>\n",
              "      <td>Rex</td>\n",
              "      <td>M</td>\n",
              "      <td>2017-08-05</td>\n",
              "      <td>Amigo e brincalhao</td>\n",
              "    </tr>\n",
              "    <tr>\n",
              "      <th>2</th>\n",
              "      <td>Lola</td>\n",
              "      <td>F</td>\n",
              "      <td>2017-08-23</td>\n",
              "      <td>Forte, amigvel e companheiro</td>\n",
              "    </tr>\n",
              "    <tr>\n",
              "      <th>3</th>\n",
              "      <td>Amora</td>\n",
              "      <td>F</td>\n",
              "      <td>2017-08-16</td>\n",
              "      <td>Se da bem com criancas</td>\n",
              "    </tr>\n",
              "    <tr>\n",
              "      <th>4</th>\n",
              "      <td>Rebeca</td>\n",
              "      <td>F</td>\n",
              "      <td>None</td>\n",
              "      <td>None</td>\n",
              "    </tr>\n",
              "    <tr>\n",
              "      <th>5</th>\n",
              "      <td>Brutus</td>\n",
              "      <td>M</td>\n",
              "      <td>None</td>\n",
              "      <td>None</td>\n",
              "    </tr>\n",
              "    <tr>\n",
              "      <th>6</th>\n",
              "      <td>Spike</td>\n",
              "      <td>M</td>\n",
              "      <td>None</td>\n",
              "      <td>None</td>\n",
              "    </tr>\n",
              "    <tr>\n",
              "      <th>7</th>\n",
              "      <td>Atena</td>\n",
              "      <td>F</td>\n",
              "      <td>None</td>\n",
              "      <td>None</td>\n",
              "    </tr>\n",
              "    <tr>\n",
              "      <th>8</th>\n",
              "      <td>Boris</td>\n",
              "      <td>M</td>\n",
              "      <td>None</td>\n",
              "      <td>None</td>\n",
              "    </tr>\n",
              "    <tr>\n",
              "      <th>9</th>\n",
              "      <td>Afrodite</td>\n",
              "      <td>F</td>\n",
              "      <td>None</td>\n",
              "      <td>None</td>\n",
              "    </tr>\n",
              "    <tr>\n",
              "      <th>10</th>\n",
              "      <td>Pretinho</td>\n",
              "      <td>M</td>\n",
              "      <td>None</td>\n",
              "      <td>None</td>\n",
              "    </tr>\n",
              "    <tr>\n",
              "      <th>11</th>\n",
              "      <td>Samantah</td>\n",
              "      <td>F</td>\n",
              "      <td>None</td>\n",
              "      <td>None</td>\n",
              "    </tr>\n",
              "    <tr>\n",
              "      <th>12</th>\n",
              "      <td>Luke</td>\n",
              "      <td>M</td>\n",
              "      <td>None</td>\n",
              "      <td>None</td>\n",
              "    </tr>\n",
              "    <tr>\n",
              "      <th>13</th>\n",
              "      <td>Bartolomeu</td>\n",
              "      <td>M</td>\n",
              "      <td>None</td>\n",
              "      <td>None</td>\n",
              "    </tr>\n",
              "    <tr>\n",
              "      <th>14</th>\n",
              "      <td>Nick</td>\n",
              "      <td>M</td>\n",
              "      <td>None</td>\n",
              "      <td>None</td>\n",
              "    </tr>\n",
              "    <tr>\n",
              "      <th>15</th>\n",
              "      <td>Perigosa</td>\n",
              "      <td>F</td>\n",
              "      <td>None</td>\n",
              "      <td>None</td>\n",
              "    </tr>\n",
              "    <tr>\n",
              "      <th>16</th>\n",
              "      <td>Apolo</td>\n",
              "      <td>M</td>\n",
              "      <td>None</td>\n",
              "      <td>None</td>\n",
              "    </tr>\n",
              "    <tr>\n",
              "      <th>17</th>\n",
              "      <td>Lilith</td>\n",
              "      <td>F</td>\n",
              "      <td>None</td>\n",
              "      <td>None</td>\n",
              "    </tr>\n",
              "    <tr>\n",
              "      <th>18</th>\n",
              "      <td>Zeus</td>\n",
              "      <td>M</td>\n",
              "      <td>None</td>\n",
              "      <td>None</td>\n",
              "    </tr>\n",
              "    <tr>\n",
              "      <th>19</th>\n",
              "      <td>Bob</td>\n",
              "      <td>M</td>\n",
              "      <td>None</td>\n",
              "      <td>None</td>\n",
              "    </tr>\n",
              "  </tbody>\n",
              "</table>\n",
              "</div>"
            ],
            "text/plain": [
              "          Nome Sexo Data de Nascimento                     Descricao\n",
              "0        Billy    M         2015-07-21                    Brincalhao\n",
              "1          Rex    M         2017-08-05            Amigo e brincalhao\n",
              "2         Lola    F         2017-08-23  Forte, amigvel e companheiro\n",
              "3        Amora    F         2017-08-16        Se da bem com criancas\n",
              "4       Rebeca    F               None                          None\n",
              "5       Brutus    M               None                          None\n",
              "6        Spike    M               None                          None\n",
              "7        Atena    F               None                          None\n",
              "8        Boris    M               None                          None\n",
              "9     Afrodite    F               None                          None\n",
              "10    Pretinho    M               None                          None\n",
              "11    Samantah    F               None                          None\n",
              "12        Luke    M               None                          None\n",
              "13  Bartolomeu    M               None                          None\n",
              "14        Nick    M               None                          None\n",
              "15    Perigosa    F               None                          None\n",
              "16       Apolo    M               None                          None\n",
              "17      Lilith    F               None                          None\n",
              "18        Zeus    M               None                          None\n",
              "19         Bob    M               None                          None"
            ]
          },
          "metadata": {
            "tags": []
          },
          "execution_count": 20
        }
      ]
    },
    {
      "cell_type": "markdown",
      "metadata": {
        "id": "tPB2MWWOJhgr",
        "colab_type": "text"
      },
      "source": [
        "9 - Consulta com View"
      ]
    },
    {
      "cell_type": "code",
      "metadata": {
        "id": "oHVrmqJiKh-v",
        "colab_type": "code",
        "colab": {}
      },
      "source": [
        "import seaborn as sns\n",
        "import pandas as pd\n",
        "import psycopg2\n",
        "\n",
        "#AS VIEWS JÁ FORAM CRIADAS E ESTÃO INSERIDAS NO BANCO\n",
        "\n",
        "#CREATE VIEW Nome_Adopter AS\n",
        "#\t(SELECT u.nome_sobrenome AS \"Nome\", a.ID_adopter AS \"ID Adopter\" FROM Usuario AS u INNER JOIN Adopter AS a ON (u.ID = a.id_adopter))\n",
        "\n",
        "#CREATE VIEW Nome_Protector AS\n",
        "#\t(SELECT u.nome_sobrenome AS \"Nome\", p.ID_protector AS \"ID Protector\" FROM Usuario AS u INNER JOIN Protector AS p ON (u.ID = p.id_protector))\n",
        "\n",
        "#CREATE VIEW Animais_Ano AS\n",
        "#(SELECT EXTRACT(year FROM data_adocao) as \"Ano\", \n",
        "# \tCOUNT(EXTRACT(year FROM data_adocao)) as \"Quantidade de Animais Adotados\" FROM Adota AS a \n",
        "#\tGROUP BY EXTRACT(year FROM a.data_adocao) ORDER BY EXTRACT(year FROM a.data_adocao))\n",
        "\n",
        "#CREATE VIEW Animais_Mes AS\n",
        "#(SELECT EXTRACT(month FROM data_adocao) as \"Mes\", EXTRACT (year FROM data_adocao) as \"Ano\", \n",
        "#\tCOUNT(EXTRACT(month FROM data_adocao)) as \"Quantidade de Animais Adotados\" FROM Adota AS a \n",
        "#\tGROUP BY EXTRACT (month FROM a.data_adocao), EXTRACT(year FROM a.data_adocao) \n",
        "#\tORDER BY EXTRACT(year FROM a.data_adocao), EXTRACT(month FROM a.data_adocao))\n",
        "\n",
        "#CREATE VIEW Sexo_Adocao AS\n",
        "#(SELECT animal.sexo_animal AS \"Sexo\", \n",
        "#\tCOUNT(animal.sexo_animal) AS \"Numero de Animais Adotados\" \n",
        "#\tFROM animal INNER JOIN \n",
        "#\tadota ON (adota.id_animal = animal.id_animal) \n",
        "#\tGROUP BY animal.sexo_animal)\n",
        "\n",
        "view_nome_adorper = pd.read_sql_query(\"\"\"SELECT * FROM Nome_Adopter\"\"\",connect)\n",
        "\n",
        "view_nome_protector = pd.read_sql_query(\"\"\"SELECT * FROM Nome_Protector\"\"\",connect)\n",
        "\n",
        "view_animais_ano = pd.read_sql_query(\"\"\"SELECT * FROM Animais_Ano\"\"\",connect)\n",
        "\n",
        "view_animais_mes = pd.read_sql_query(\"\"\"SELECT * FROM Animais_Mes\"\"\",connect)\n",
        "\n",
        "view_sexo_adocao = pd.read_sql_query(\"\"\"SELECT * FROM Sexo_Adocao\"\"\",connect)\n"
      ],
      "execution_count": 0,
      "outputs": []
    },
    {
      "cell_type": "code",
      "metadata": {
        "id": "q02g7bHFObv1",
        "colab_type": "code",
        "outputId": "4bbd6aea-12c6-41b6-891e-c3e381030d61",
        "colab": {
          "base_uri": "https://localhost:8080/",
          "height": 314
        }
      },
      "source": [
        "#-----INSERIR-NOME-DA-VARIAVEL-PARA-PRINTAR-----#\n",
        "\n",
        "view_animais_mes"
      ],
      "execution_count": 0,
      "outputs": [
        {
          "output_type": "execute_result",
          "data": {
            "text/html": [
              "<div>\n",
              "<style scoped>\n",
              "    .dataframe tbody tr th:only-of-type {\n",
              "        vertical-align: middle;\n",
              "    }\n",
              "\n",
              "    .dataframe tbody tr th {\n",
              "        vertical-align: top;\n",
              "    }\n",
              "\n",
              "    .dataframe thead th {\n",
              "        text-align: right;\n",
              "    }\n",
              "</style>\n",
              "<table border=\"1\" class=\"dataframe\">\n",
              "  <thead>\n",
              "    <tr style=\"text-align: right;\">\n",
              "      <th></th>\n",
              "      <th>Mes</th>\n",
              "      <th>Ano</th>\n",
              "      <th>Quantidade de Animais Adotados</th>\n",
              "    </tr>\n",
              "  </thead>\n",
              "  <tbody>\n",
              "    <tr>\n",
              "      <th>0</th>\n",
              "      <td>6.0</td>\n",
              "      <td>2017.0</td>\n",
              "      <td>1</td>\n",
              "    </tr>\n",
              "    <tr>\n",
              "      <th>1</th>\n",
              "      <td>3.0</td>\n",
              "      <td>2018.0</td>\n",
              "      <td>1</td>\n",
              "    </tr>\n",
              "    <tr>\n",
              "      <th>2</th>\n",
              "      <td>6.0</td>\n",
              "      <td>2018.0</td>\n",
              "      <td>1</td>\n",
              "    </tr>\n",
              "    <tr>\n",
              "      <th>3</th>\n",
              "      <td>8.0</td>\n",
              "      <td>2018.0</td>\n",
              "      <td>1</td>\n",
              "    </tr>\n",
              "    <tr>\n",
              "      <th>4</th>\n",
              "      <td>1.0</td>\n",
              "      <td>2019.0</td>\n",
              "      <td>2</td>\n",
              "    </tr>\n",
              "    <tr>\n",
              "      <th>5</th>\n",
              "      <td>5.0</td>\n",
              "      <td>2019.0</td>\n",
              "      <td>1</td>\n",
              "    </tr>\n",
              "    <tr>\n",
              "      <th>6</th>\n",
              "      <td>8.0</td>\n",
              "      <td>2019.0</td>\n",
              "      <td>1</td>\n",
              "    </tr>\n",
              "    <tr>\n",
              "      <th>7</th>\n",
              "      <td>9.0</td>\n",
              "      <td>2019.0</td>\n",
              "      <td>1</td>\n",
              "    </tr>\n",
              "    <tr>\n",
              "      <th>8</th>\n",
              "      <td>1.0</td>\n",
              "      <td>2020.0</td>\n",
              "      <td>1</td>\n",
              "    </tr>\n",
              "  </tbody>\n",
              "</table>\n",
              "</div>"
            ],
            "text/plain": [
              "   Mes     Ano  Quantidade de Animais Adotados\n",
              "0  6.0  2017.0                               1\n",
              "1  3.0  2018.0                               1\n",
              "2  6.0  2018.0                               1\n",
              "3  8.0  2018.0                               1\n",
              "4  1.0  2019.0                               2\n",
              "5  5.0  2019.0                               1\n",
              "6  8.0  2019.0                               1\n",
              "7  9.0  2019.0                               1\n",
              "8  1.0  2020.0                               1"
            ]
          },
          "metadata": {
            "tags": []
          },
          "execution_count": 22
        }
      ]
    },
    {
      "cell_type": "markdown",
      "metadata": {
        "id": "iaG9rwOPKLPS",
        "colab_type": "text"
      },
      "source": [
        "10 - Subconsultas"
      ]
    },
    {
      "cell_type": "code",
      "metadata": {
        "id": "_RiIG7RFKi0C",
        "colab_type": "code",
        "colab": {}
      },
      "source": [
        "import seaborn as sns\n",
        "import pandas as pd\n",
        "import psycopg2\n",
        "\n",
        "sub_protector = pd.read_sql_query(\"\"\"SELECT u.Nome_Sobrenome AS \"Nome\" FROM Usuario AS u\n",
        "WHERE u.ID IN(SELECT * FROM Protector)\"\"\",connect)\n",
        "\n",
        "sub_adopter = pd.read_sql_query(\"\"\"SELECT u.Nome_Sobrenome AS \"Nome\" FROM Usuario AS u\n",
        "WHERE u.ID IN(SELECT * FROM Adopter)\"\"\",connect)\n",
        "\n",
        "sub_animais_visita = pd.read_sql_query(\"\"\"SELECT * FROM Animal\n",
        "WHERE Animal.ID_Animal IN (SELECT ID_Animal FROM Agenda_Visita )\"\"\",connect)\n",
        "\n",
        "sub_documento_adotados = pd.read_sql_query(\"\"\"Select * FROM Documentacao\n",
        "WHERE Documentacao.ID_Animal IN (SELECT ID_Animal FROM Adota )\"\"\",connect)"
      ],
      "execution_count": 0,
      "outputs": []
    },
    {
      "cell_type": "code",
      "metadata": {
        "id": "DXLKd6IOOczi",
        "colab_type": "code",
        "outputId": "952f316e-7e12-40f6-d094-a7d5a0a712f6",
        "colab": {
          "base_uri": "https://localhost:8080/",
          "height": 343
        }
      },
      "source": [
        "#-----INSERIR-NOME-DA-VARIAVEL-PARA-PRINTAR-----#\n",
        "\n",
        "sub_protector"
      ],
      "execution_count": 0,
      "outputs": [
        {
          "output_type": "execute_result",
          "data": {
            "text/html": [
              "<div>\n",
              "<style scoped>\n",
              "    .dataframe tbody tr th:only-of-type {\n",
              "        vertical-align: middle;\n",
              "    }\n",
              "\n",
              "    .dataframe tbody tr th {\n",
              "        vertical-align: top;\n",
              "    }\n",
              "\n",
              "    .dataframe thead th {\n",
              "        text-align: right;\n",
              "    }\n",
              "</style>\n",
              "<table border=\"1\" class=\"dataframe\">\n",
              "  <thead>\n",
              "    <tr style=\"text-align: right;\">\n",
              "      <th></th>\n",
              "      <th>Nome</th>\n",
              "    </tr>\n",
              "  </thead>\n",
              "  <tbody>\n",
              "    <tr>\n",
              "      <th>0</th>\n",
              "      <td>Amanda Montenegro</td>\n",
              "    </tr>\n",
              "    <tr>\n",
              "      <th>1</th>\n",
              "      <td>Claudio Moreira</td>\n",
              "    </tr>\n",
              "    <tr>\n",
              "      <th>2</th>\n",
              "      <td>Renato Goncalvez</td>\n",
              "    </tr>\n",
              "    <tr>\n",
              "      <th>3</th>\n",
              "      <td>Mariana Rodrigues</td>\n",
              "    </tr>\n",
              "    <tr>\n",
              "      <th>4</th>\n",
              "      <td>Marcelo Augusto</td>\n",
              "    </tr>\n",
              "    <tr>\n",
              "      <th>5</th>\n",
              "      <td>Roger Machado</td>\n",
              "    </tr>\n",
              "    <tr>\n",
              "      <th>6</th>\n",
              "      <td>Marta Pereira</td>\n",
              "    </tr>\n",
              "    <tr>\n",
              "      <th>7</th>\n",
              "      <td>Lorenzo Rocha</td>\n",
              "    </tr>\n",
              "    <tr>\n",
              "      <th>8</th>\n",
              "      <td>Romildo Lorencon</td>\n",
              "    </tr>\n",
              "    <tr>\n",
              "      <th>9</th>\n",
              "      <td>Graca Conceicao</td>\n",
              "    </tr>\n",
              "  </tbody>\n",
              "</table>\n",
              "</div>"
            ],
            "text/plain": [
              "                Nome\n",
              "0  Amanda Montenegro\n",
              "1    Claudio Moreira\n",
              "2   Renato Goncalvez\n",
              "3  Mariana Rodrigues\n",
              "4    Marcelo Augusto\n",
              "5      Roger Machado\n",
              "6      Marta Pereira\n",
              "7      Lorenzo Rocha\n",
              "8   Romildo Lorencon\n",
              "9    Graca Conceicao"
            ]
          },
          "metadata": {
            "tags": []
          },
          "execution_count": 24
        }
      ]
    },
    {
      "cell_type": "markdown",
      "metadata": {
        "id": "Y4FxUOOgKQXz",
        "colab_type": "text"
      },
      "source": [
        "11 - Relatórios"
      ]
    },
    {
      "cell_type": "code",
      "metadata": {
        "id": "hwc1J92jKkW0",
        "colab_type": "code",
        "colab": {}
      },
      "source": [
        "import seaborn as sns\n",
        "import pandas as pd\n",
        "import psycopg2\n",
        "\n",
        "re_animais_adotados = pd.read_sql_query(\"\"\"SELECT EXTRACT(year FROM data_adocao) as \"Ano\", \n",
        " \tCOUNT(EXTRACT(year FROM data_adocao)) as \"Animais_Adotados\" FROM Adota AS a \n",
        "\tGROUP BY EXTRACT(year FROM a.data_adocao) ORDER BY EXTRACT(year FROM a.data_adocao)\"\"\",connect)\n",
        "\n",
        "re_animais_sexo = pd.read_sql_query(\"\"\"SELECT animal.sexo_animal AS \"Sexo\", \n",
        "\tCOUNT(animal.sexo_animal) AS \"Animais_Adotados\" \n",
        "\tFROM animal INNER JOIN \n",
        "\tadota ON (adota.id_animal = animal.id_animal) \n",
        "\tGROUP BY animal.sexo_animal\"\"\",connect)\n",
        "\n",
        "re_animais_cadastrados = pd.read_sql_query(\"\"\"SELECT EXTRACT(year FROM data_cadastro) as \"Ano\", \n",
        " \tCOUNT(EXTRACT(year FROM data_cadastro)) as \"Animais_Cadastrados\" FROM Animal AS a \n",
        "\tGROUP BY EXTRACT(year FROM a.data_cadastro) ORDER BY EXTRACT(year FROM a.data_cadastro)\"\"\", connect)\n",
        "\n",
        "re_visitas_adocao = pd.read_sql_query(\"\"\"SELECT COUNT(Adota.data_adocao) AS \"Animais_Adotados\", \n",
        "\tCOUNT(agenda_visita.data_agendamento) AS \"Visitas_Agendadas\" \n",
        "\tFROM Agenda_Visita INNER JOIN \n",
        "\tadota ON (adota.id_adopter = agenda_visita.id_adopter)\"\"\", connect)\n",
        "\n",
        "re_faixa_etaria = pd.read_sql_query(\"\"\"SELECT 'Entre 18 e 30 anos' AS \"Faixa_Etaria\", COUNT(EXTRACT(year FROM data_adocao)) as \"Animais_Adotados\"\n",
        "FROM Usuario AS u INNER JOIN Adopter AS a ON (u.ID = a.ID_Adopter)\n",
        "INNER JOIN Adota AS ad ON (ad.ID_Adopter = a.ID_Adopter) \n",
        "Where EXTRACT (Year FROM (AGE(current_date , u.Data_Nascimento))) >= 18 AND EXTRACT (Year FROM (AGE(current_date , u.Data_Nascimento))) <= 30\n",
        "UNION\n",
        "SELECT 'Entre 31 e 50 anos' AS \"Faixa_Etaria\", COUNT(EXTRACT(year FROM data_adocao)) as \"Animais_Adotados\"\n",
        "FROM Usuario AS u INNER JOIN Adopter AS a ON (u.ID = a.ID_Adopter)\n",
        "INNER JOIN Adota AS ad ON (ad.ID_Adopter = a.ID_Adopter) \n",
        "Where EXTRACT (Year FROM (AGE(current_date , u.Data_Nascimento))) > 30 AND EXTRACT (Year FROM (AGE(current_date , u.Data_Nascimento))) <= 50\n",
        "UNION\n",
        "SELECT 'Maiores de 50 ano' AS \"Faixa_Etaria\", COUNT(EXTRACT(year FROM data_adocao)) as \"Animais_ Adotados\"\n",
        "FROM Usuario AS u INNER JOIN Adopter AS a ON (u.ID = a.ID_Adopter)\n",
        "INNER JOIN Adota AS ad ON (ad.ID_Adopter = a.ID_Adopter) \n",
        "Where EXTRACT (Year FROM (AGE(current_date , u.Data_Nascimento))) > 50\"\"\",connect)\n"
      ],
      "execution_count": 0,
      "outputs": []
    },
    {
      "cell_type": "markdown",
      "metadata": {
        "id": "WZOB-E6p9tgK",
        "colab_type": "text"
      },
      "source": [
        "* Gráficos gerados a partir dos relatórios"
      ]
    },
    {
      "cell_type": "code",
      "metadata": {
        "id": "b0DrRAfiOd0M",
        "colab_type": "code",
        "outputId": "d750f396-c25d-4744-c8eb-e5ef26937ccf",
        "colab": {
          "base_uri": "https://localhost:8080/",
          "height": 166
        }
      },
      "source": [
        "#-----INSERIR-NOME-DA-VARIAVEL-PARA-PRINTAR-----#\n",
        "\n",
        "re_animais_adotados"
      ],
      "execution_count": 0,
      "outputs": [
        {
          "output_type": "execute_result",
          "data": {
            "text/html": [
              "<div>\n",
              "<style scoped>\n",
              "    .dataframe tbody tr th:only-of-type {\n",
              "        vertical-align: middle;\n",
              "    }\n",
              "\n",
              "    .dataframe tbody tr th {\n",
              "        vertical-align: top;\n",
              "    }\n",
              "\n",
              "    .dataframe thead th {\n",
              "        text-align: right;\n",
              "    }\n",
              "</style>\n",
              "<table border=\"1\" class=\"dataframe\">\n",
              "  <thead>\n",
              "    <tr style=\"text-align: right;\">\n",
              "      <th></th>\n",
              "      <th>Ano</th>\n",
              "      <th>Animais_Adotados</th>\n",
              "    </tr>\n",
              "  </thead>\n",
              "  <tbody>\n",
              "    <tr>\n",
              "      <th>0</th>\n",
              "      <td>2017.0</td>\n",
              "      <td>1</td>\n",
              "    </tr>\n",
              "    <tr>\n",
              "      <th>1</th>\n",
              "      <td>2018.0</td>\n",
              "      <td>3</td>\n",
              "    </tr>\n",
              "    <tr>\n",
              "      <th>2</th>\n",
              "      <td>2019.0</td>\n",
              "      <td>5</td>\n",
              "    </tr>\n",
              "    <tr>\n",
              "      <th>3</th>\n",
              "      <td>2020.0</td>\n",
              "      <td>1</td>\n",
              "    </tr>\n",
              "  </tbody>\n",
              "</table>\n",
              "</div>"
            ],
            "text/plain": [
              "      Ano  Animais_Adotados\n",
              "0  2017.0                 1\n",
              "1  2018.0                 3\n",
              "2  2019.0                 5\n",
              "3  2020.0                 1"
            ]
          },
          "metadata": {
            "tags": []
          },
          "execution_count": 4
        }
      ]
    },
    {
      "cell_type": "code",
      "metadata": {
        "id": "KE4m6mth2-5m",
        "colab_type": "code",
        "outputId": "bfb9c113-a7ac-42ce-83fe-672f853ac024",
        "colab": {
          "base_uri": "https://localhost:8080/",
          "height": 452
        }
      },
      "source": [
        "import matplotlib.pyplot as plt; plt.rcdefaults()\n",
        "import numpy as np\n",
        "import matplotlib.pyplot as plt\n",
        "\n",
        "df = pd.DataFrame(re_animais_adotados)\n",
        "cm = sns.light_palette(\"green\", as_cmap=True)\n",
        "df.style.background_gradient(cmap=cm)\n",
        " \n",
        "objects = tuple(df.Ano)\n",
        "y_pos = np.arange(len(objects))\n",
        "performance = list(df.Animais_Adotados)\n",
        " \n",
        "plt.bar(y_pos, performance, align='center', alpha=0.5)\n",
        "plt.xticks(y_pos, objects)\n",
        "plt.ylabel('Quantidade de Animais Adotados')\n",
        "plt.title('Ano')\n",
        " \n",
        "plt.show()"
      ],
      "execution_count": 0,
      "outputs": [
        {
          "output_type": "display_data",
          "data": {
            "image/png": "[encoded data removed]",
            "text/plain": [
              "<Figure size 640x480 with 1 Axes>"
            ]
          },
          "metadata": {
            "tags": []
          }
        }
      ]
    },
    {
      "cell_type": "code",
      "metadata": {
        "id": "0EdOBVQK8xFm",
        "colab_type": "code",
        "outputId": "5e6f3403-2eaa-4246-e867-fc3702048ed5",
        "colab": {
          "base_uri": "https://localhost:8080/",
          "height": 106
        }
      },
      "source": [
        "#-----INSERIR-NOME-DA-VARIAVEL-PARA-PRINTAR-----#\n",
        "\n",
        "re_animais_sexo"
      ],
      "execution_count": 0,
      "outputs": [
        {
          "output_type": "execute_result",
          "data": {
            "text/html": [
              "<div>\n",
              "<style scoped>\n",
              "    .dataframe tbody tr th:only-of-type {\n",
              "        vertical-align: middle;\n",
              "    }\n",
              "\n",
              "    .dataframe tbody tr th {\n",
              "        vertical-align: top;\n",
              "    }\n",
              "\n",
              "    .dataframe thead th {\n",
              "        text-align: right;\n",
              "    }\n",
              "</style>\n",
              "<table border=\"1\" class=\"dataframe\">\n",
              "  <thead>\n",
              "    <tr style=\"text-align: right;\">\n",
              "      <th></th>\n",
              "      <th>Sexo</th>\n",
              "      <th>Animais_Adotados</th>\n",
              "    </tr>\n",
              "  </thead>\n",
              "  <tbody>\n",
              "    <tr>\n",
              "      <th>0</th>\n",
              "      <td>M</td>\n",
              "      <td>6</td>\n",
              "    </tr>\n",
              "    <tr>\n",
              "      <th>1</th>\n",
              "      <td>F</td>\n",
              "      <td>4</td>\n",
              "    </tr>\n",
              "  </tbody>\n",
              "</table>\n",
              "</div>"
            ],
            "text/plain": [
              "  Sexo  Animais_Adotados\n",
              "0    M                 6\n",
              "1    F                 4"
            ]
          },
          "metadata": {
            "tags": []
          },
          "execution_count": 6
        }
      ]
    },
    {
      "cell_type": "code",
      "metadata": {
        "id": "aJFbwL-F5J4W",
        "colab_type": "code",
        "outputId": "517b970f-fbef-4585-e071-a9a275324e0d",
        "colab": {
          "base_uri": "https://localhost:8080/",
          "height": 452
        }
      },
      "source": [
        "import matplotlib.pyplot as plt; plt.rcdefaults()\n",
        "import numpy as np\n",
        "import matplotlib.pyplot as plt\n",
        "\n",
        "df = pd.DataFrame(re_animais_sexo)\n",
        "cm = sns.light_palette(\"green\", as_cmap=True)\n",
        "df.style.background_gradient(cmap=cm)\n",
        " \n",
        "objects = tuple(df.Sexo)\n",
        "y_pos = np.arange(len(objects))\n",
        "performance = list(df.Animais_Adotados)\n",
        " \n",
        "plt.bar(y_pos, performance, align='center', alpha=0.5)\n",
        "plt.xticks(y_pos, objects)\n",
        "plt.ylabel('Quantidade de Animais Adotados')\n",
        "plt.title('Sexo')\n",
        " \n",
        "plt.show()"
      ],
      "execution_count": 0,
      "outputs": [
        {
          "output_type": "display_data",
          "data": {
            "image/png": "[encoded data removed]",
            "text/plain": [
              "<Figure size 640x480 with 1 Axes>"
            ]
          },
          "metadata": {
            "tags": []
          }
        }
      ]
    },
    {
      "cell_type": "code",
      "metadata": {
        "id": "KS-Vzs5R9S6o",
        "colab_type": "code",
        "outputId": "8a8adb19-5a71-41f1-9af5-03db8c747e8f",
        "colab": {
          "base_uri": "https://localhost:8080/",
          "height": 136
        }
      },
      "source": [
        "#-----INSERIR-NOME-DA-VARIAVEL-PARA-PRINTAR-----#\n",
        "\n",
        "re_animais_cadastrados"
      ],
      "execution_count": 0,
      "outputs": [
        {
          "output_type": "execute_result",
          "data": {
            "text/html": [
              "<div>\n",
              "<style scoped>\n",
              "    .dataframe tbody tr th:only-of-type {\n",
              "        vertical-align: middle;\n",
              "    }\n",
              "\n",
              "    .dataframe tbody tr th {\n",
              "        vertical-align: top;\n",
              "    }\n",
              "\n",
              "    .dataframe thead th {\n",
              "        text-align: right;\n",
              "    }\n",
              "</style>\n",
              "<table border=\"1\" class=\"dataframe\">\n",
              "  <thead>\n",
              "    <tr style=\"text-align: right;\">\n",
              "      <th></th>\n",
              "      <th>Ano</th>\n",
              "      <th>Animais_Cadastrados</th>\n",
              "    </tr>\n",
              "  </thead>\n",
              "  <tbody>\n",
              "    <tr>\n",
              "      <th>0</th>\n",
              "      <td>2017.0</td>\n",
              "      <td>4</td>\n",
              "    </tr>\n",
              "    <tr>\n",
              "      <th>1</th>\n",
              "      <td>2018.0</td>\n",
              "      <td>9</td>\n",
              "    </tr>\n",
              "    <tr>\n",
              "      <th>2</th>\n",
              "      <td>2019.0</td>\n",
              "      <td>7</td>\n",
              "    </tr>\n",
              "  </tbody>\n",
              "</table>\n",
              "</div>"
            ],
            "text/plain": [
              "      Ano  Animais_Cadastrados\n",
              "0  2017.0                    4\n",
              "1  2018.0                    9\n",
              "2  2019.0                    7"
            ]
          },
          "metadata": {
            "tags": []
          },
          "execution_count": 10
        }
      ]
    },
    {
      "cell_type": "code",
      "metadata": {
        "id": "ddY5Jno_9TtZ",
        "colab_type": "code",
        "outputId": "fe25de39-fd62-4203-f4cc-01e7ad8d8fb5",
        "colab": {
          "base_uri": "https://localhost:8080/",
          "height": 452
        }
      },
      "source": [
        "import matplotlib.pyplot as plt; plt.rcdefaults()\n",
        "import numpy as np\n",
        "import matplotlib.pyplot as plt\n",
        "\n",
        "df = pd.DataFrame(re_animais_cadastrados)\n",
        "cm = sns.light_palette(\"green\", as_cmap=True)\n",
        "df.style.background_gradient(cmap=cm)\n",
        " \n",
        "objects = tuple(df.Ano)\n",
        "y_pos = np.arange(len(objects))\n",
        "performance = list(df.Animais_Cadastrados)\n",
        " \n",
        "plt.bar(y_pos, performance, align='center', alpha=0.5)\n",
        "plt.xticks(y_pos, objects)\n",
        "plt.ylabel('Animais Cadastrados')\n",
        "plt.title('Ano')\n",
        " \n",
        "plt.show()"
      ],
      "execution_count": 0,
      "outputs": [
        {
          "output_type": "display_data",
          "data": {
            "image/png": "[encoded data removed]",
            "text/plain": [
              "<Figure size 640x480 with 1 Axes>"
            ]
          },
          "metadata": {
            "tags": []
          }
        }
      ]
    },
    {
      "cell_type": "code",
      "metadata": {
        "id": "KM_ZlSXQkGUH",
        "colab_type": "code",
        "outputId": "4fc0d167-f575-440e-8927-531a159be68f",
        "colab": {
          "base_uri": "https://localhost:8080/",
          "height": 77
        }
      },
      "source": [
        "#-----INSERIR-NOME-DA-VARIAVEL-PARA-PRINTAR-----#\n",
        "\n",
        "re_visitas_adocao"
      ],
      "execution_count": 0,
      "outputs": [
        {
          "output_type": "execute_result",
          "data": {
            "text/html": [
              "<div>\n",
              "<style scoped>\n",
              "    .dataframe tbody tr th:only-of-type {\n",
              "        vertical-align: middle;\n",
              "    }\n",
              "\n",
              "    .dataframe tbody tr th {\n",
              "        vertical-align: top;\n",
              "    }\n",
              "\n",
              "    .dataframe thead th {\n",
              "        text-align: right;\n",
              "    }\n",
              "</style>\n",
              "<table border=\"1\" class=\"dataframe\">\n",
              "  <thead>\n",
              "    <tr style=\"text-align: right;\">\n",
              "      <th></th>\n",
              "      <th>Animais_Adotados</th>\n",
              "      <th>Visitas_Agendadas</th>\n",
              "    </tr>\n",
              "  </thead>\n",
              "  <tbody>\n",
              "    <tr>\n",
              "      <th>0</th>\n",
              "      <td>10</td>\n",
              "      <td>10</td>\n",
              "    </tr>\n",
              "  </tbody>\n",
              "</table>\n",
              "</div>"
            ],
            "text/plain": [
              "   Animais_Adotados  Visitas_Agendadas\n",
              "0                10                 10"
            ]
          },
          "metadata": {
            "tags": []
          },
          "execution_count": 7
        }
      ]
    },
    {
      "cell_type": "code",
      "metadata": {
        "id": "bZhdNaeWkHLb",
        "colab_type": "code",
        "outputId": "acd0b68e-1fbf-45de-a84b-5e0e94bd69ff",
        "colab": {
          "base_uri": "https://localhost:8080/",
          "height": 449
        }
      },
      "source": [
        "import matplotlib.pyplot as plt; plt.rcdefaults()\n",
        "import numpy as np\n",
        "import matplotlib.pyplot as plt\n",
        " \n",
        "objects = tuple(re_visitas_adocao.Animais_Adotados)\n",
        "y_pos = np.arange(len(objects))\n",
        "performance = list(re_visitas_adocao.Visitas_Agendadas)\n",
        " \n",
        "plt.barh(performance, objects)\n",
        "plt.xticks(objects)\n",
        "plt.xlabel('Animais Adotados')\n",
        "plt.ylabel('Visitas Agendadas')\n",
        " \n",
        "plt.show()"
      ],
      "execution_count": 0,
      "outputs": [
        {
          "output_type": "display_data",
          "data": {
            "image/png": "[encoded data removed]",
            "text/plain": [
              "<Figure size 640x480 with 1 Axes>"
            ]
          },
          "metadata": {
            "tags": []
          }
        }
      ]
    },
    {
      "cell_type": "code",
      "metadata": {
        "id": "TnSf4ziI8891",
        "colab_type": "code",
        "outputId": "e35d3a94-b79e-4396-827d-c8d5e3b5f465",
        "colab": {
          "base_uri": "https://localhost:8080/",
          "height": 136
        }
      },
      "source": [
        "#-----INSERIR-NOME-DA-VARIAVEL-PARA-PRINTAR-----#\n",
        "\n",
        "re_faixa_etaria"
      ],
      "execution_count": 0,
      "outputs": [
        {
          "output_type": "execute_result",
          "data": {
            "text/html": [
              "<div>\n",
              "<style scoped>\n",
              "    .dataframe tbody tr th:only-of-type {\n",
              "        vertical-align: middle;\n",
              "    }\n",
              "\n",
              "    .dataframe tbody tr th {\n",
              "        vertical-align: top;\n",
              "    }\n",
              "\n",
              "    .dataframe thead th {\n",
              "        text-align: right;\n",
              "    }\n",
              "</style>\n",
              "<table border=\"1\" class=\"dataframe\">\n",
              "  <thead>\n",
              "    <tr style=\"text-align: right;\">\n",
              "      <th></th>\n",
              "      <th>Faixa_Etaria</th>\n",
              "      <th>Animais_Adotados</th>\n",
              "    </tr>\n",
              "  </thead>\n",
              "  <tbody>\n",
              "    <tr>\n",
              "      <th>0</th>\n",
              "      <td>Entre 18 e 30 anos</td>\n",
              "      <td>3</td>\n",
              "    </tr>\n",
              "    <tr>\n",
              "      <th>1</th>\n",
              "      <td>Maiores de 50 ano</td>\n",
              "      <td>1</td>\n",
              "    </tr>\n",
              "    <tr>\n",
              "      <th>2</th>\n",
              "      <td>Entre 31 e 50 anos</td>\n",
              "      <td>6</td>\n",
              "    </tr>\n",
              "  </tbody>\n",
              "</table>\n",
              "</div>"
            ],
            "text/plain": [
              "         Faixa_Etaria  Animais_Adotados\n",
              "0  Entre 18 e 30 anos                 3\n",
              "1   Maiores de 50 ano                 1\n",
              "2  Entre 31 e 50 anos                 6"
            ]
          },
          "metadata": {
            "tags": []
          },
          "execution_count": 8
        }
      ]
    },
    {
      "cell_type": "code",
      "metadata": {
        "id": "08Oh5lZVN7F4",
        "colab_type": "code",
        "outputId": "72cacb0c-cbec-483e-ee55-a3a50c65768f",
        "colab": {
          "base_uri": "https://localhost:8080/",
          "height": 447
        }
      },
      "source": [
        "import matplotlib.pyplot as plt\n",
        "plt.plot(re_faixa_etaria.Faixa_Etaria, re_faixa_etaria.Animais_Adotados)"
      ],
      "execution_count": 0,
      "outputs": [
        {
          "output_type": "execute_result",
          "data": {
            "text/plain": [
              "[<matplotlib.lines.Line2D at 0x7f71249dcd30>]"
            ]
          },
          "metadata": {
            "tags": []
          },
          "execution_count": 9
        },
        {
          "output_type": "display_data",
          "data": {
            "image/png": "[encoded data removed]",
            "text/plain": [
              "<Figure size 640x480 with 1 Axes>"
            ]
          },
          "metadata": {
            "tags": []
          }
        }
      ]
    }
  ]
}